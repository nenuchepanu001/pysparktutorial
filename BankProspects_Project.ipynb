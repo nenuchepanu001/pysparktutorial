{
  "nbformat": 4,
  "nbformat_minor": 0,
  "metadata": {
    "colab": {
      "provenance": [],
      "authorship_tag": "ABX9TyPjKtY0+kJwjGaX/0pQ8lwH",
      "include_colab_link": true
    },
    "kernelspec": {
      "name": "python3",
      "display_name": "Python 3"
    },
    "language_info": {
      "name": "python"
    }
  },
  "cells": [
    {
      "cell_type": "markdown",
      "metadata": {
        "id": "view-in-github",
        "colab_type": "text"
      },
      "source": [
        "<a href=\"https://colab.research.google.com/github/nenuchepanu001/pysparktutorial/blob/main/BankProspects_Project.ipynb\" target=\"_parent\"><img src=\"https://colab.research.google.com/assets/colab-badge.svg\" alt=\"Open In Colab\"/></a>"
      ]
    },
    {
      "cell_type": "code",
      "execution_count": 1,
      "metadata": {
        "colab": {
          "base_uri": "https://localhost:8080/",
          "height": 219
        },
        "id": "pSqadj8EAdVE",
        "outputId": "f3943660-3c86-44bb-810b-d37010badcfc"
      },
      "outputs": [
        {
          "output_type": "execute_result",
          "data": {
            "text/plain": [
              "<pyspark.sql.session.SparkSession at 0x7f5d3e70fc10>"
            ],
            "text/html": [
              "\n",
              "            <div>\n",
              "                <p><b>SparkSession - in-memory</b></p>\n",
              "                \n",
              "        <div>\n",
              "            <p><b>SparkContext</b></p>\n",
              "\n",
              "            <p><a href=\"http://dee86191100f:4040\">Spark UI</a></p>\n",
              "\n",
              "            <dl>\n",
              "              <dt>Version</dt>\n",
              "                <dd><code>v3.1.1</code></dd>\n",
              "              <dt>Master</dt>\n",
              "                <dd><code>local[*]</code></dd>\n",
              "              <dt>AppName</dt>\n",
              "                <dd><code>pyspark-shell</code></dd>\n",
              "            </dl>\n",
              "        </div>\n",
              "        \n",
              "            </div>\n",
              "        "
            ]
          },
          "metadata": {},
          "execution_count": 1
        }
      ],
      "source": [
        "!apt-get install openjdk-8-jdk-headless -qq > /dev/null\n",
        "!wget -q http://archive.apache.org/dist/spark/spark-3.1.1/spark-3.1.1-bin-hadoop3.2.tgz\n",
        "!tar xf spark-3.1.1-bin-hadoop3.2.tgz\n",
        "!pip install -q findspark\n",
        "import os\n",
        "os.environ[\"JAVA_HOME\"] = \"/usr/lib/jvm/java-8-openjdk-amd64\"\n",
        "os.environ[\"SPARK_HOME\"] = \"/content/spark-3.1.1-bin-hadoop3.2\"\n",
        "import findspark\n",
        "findspark.init()\n",
        "\n",
        "import pyspark\n",
        "from pyspark.sql import SparkSession\n",
        "spark = SparkSession.builder.master(\"local[*]\").getOrCreate()\n",
        "spark"
      ]
    },
    {
      "cell_type": "code",
      "source": [
        "spark.createDataFrame([{'Google':\"Colab\",\"Spark\":\"Scala\"},{\"Google\":\"DataProc\",\"Spark\":\"Python\"}]).show()"
      ],
      "metadata": {
        "colab": {
          "base_uri": "https://localhost:8080/"
        },
        "id": "e1QEaFiLAjVK",
        "outputId": "cc9277a3-d2e4-4434-f194-8214065fdc14"
      },
      "execution_count": 4,
      "outputs": [
        {
          "output_type": "stream",
          "name": "stdout",
          "text": [
            "+--------+------+\n",
            "|  Google| Spark|\n",
            "+--------+------+\n",
            "|   Colab| Scala|\n",
            "|DataProc|Python|\n",
            "+--------+------+\n",
            "\n"
          ]
        }
      ]
    },
    {
      "cell_type": "code",
      "source": [
        "!wget https://raw.githubusercontent.com/futurexskill/bigdata/master/bank_prospects.csv"
      ],
      "metadata": {
        "colab": {
          "base_uri": "https://localhost:8080/"
        },
        "id": "JBd5oYRxCL_K",
        "outputId": "c377b8f1-f365-441e-d113-74fc138139e9"
      },
      "execution_count": 8,
      "outputs": [
        {
          "output_type": "stream",
          "name": "stdout",
          "text": [
            "--2023-07-01 15:21:50--  https://raw.githubusercontent.com/futurexskill/bigdata/master/bank_prospects.csv\n",
            "Resolving raw.githubusercontent.com (raw.githubusercontent.com)... 185.199.109.133, 185.199.110.133, 185.199.111.133, ...\n",
            "Connecting to raw.githubusercontent.com (raw.githubusercontent.com)|185.199.109.133|:443... connected.\n",
            "HTTP request sent, awaiting response... 200 OK\n",
            "Length: 306 [text/plain]\n",
            "Saving to: ‘bank_prospects.csv’\n",
            "\n",
            "bank_prospects.csv  100%[===================>]     306  --.-KB/s    in 0s      \n",
            "\n",
            "2023-07-01 15:21:50 (12.9 MB/s) - ‘bank_prospects.csv’ saved [306/306]\n",
            "\n"
          ]
        }
      ]
    },
    {
      "cell_type": "code",
      "source": [
        "df = spark.read.csv('bank_prospects.csv',header=True)\n",
        "df.show()"
      ],
      "metadata": {
        "colab": {
          "base_uri": "https://localhost:8080/"
        },
        "id": "khHSAmBnCsd5",
        "outputId": "917890b3-35a9-40ea-c8c0-effa127bcaef"
      },
      "execution_count": 10,
      "outputs": [
        {
          "output_type": "stream",
          "name": "stdout",
          "text": [
            "+----+------+------+-------+---------+\n",
            "| Age|Salary|Gender|Country|Purchased|\n",
            "+----+------+------+-------+---------+\n",
            "|  18| 20000|  Male|Germany|        N|\n",
            "|  19| 22000|Female| France|        N|\n",
            "|  20| 24000|Female|England|        N|\n",
            "|  21|  null|  Male|England|        N|\n",
            "|  22| 50000|  Male| France|        Y|\n",
            "|  23| 35000|Female|England|        N|\n",
            "|  24|  null|  Male|Germany|        N|\n",
            "|  25| 32000|Female| France|        Y|\n",
            "|null| 35000|  Male|Germany|        N|\n",
            "|  27| 37000|Female| France|        N|\n",
            "|  27| 37000|Female|unknown|        N|\n",
            "+----+------+------+-------+---------+\n",
            "\n"
          ]
        }
      ]
    },
    {
      "cell_type": "code",
      "source": [
        "prospectsDF =  df.filter(df.Country != 'unknown')\n",
        "prospectsDF.show()"
      ],
      "metadata": {
        "colab": {
          "base_uri": "https://localhost:8080/"
        },
        "id": "3Tr7uqaeDAZ0",
        "outputId": "61970fde-a1bd-43b0-9cd5-55c842f92549"
      },
      "execution_count": 11,
      "outputs": [
        {
          "output_type": "stream",
          "name": "stdout",
          "text": [
            "+----+------+------+-------+---------+\n",
            "| Age|Salary|Gender|Country|Purchased|\n",
            "+----+------+------+-------+---------+\n",
            "|  18| 20000|  Male|Germany|        N|\n",
            "|  19| 22000|Female| France|        N|\n",
            "|  20| 24000|Female|England|        N|\n",
            "|  21|  null|  Male|England|        N|\n",
            "|  22| 50000|  Male| France|        Y|\n",
            "|  23| 35000|Female|England|        N|\n",
            "|  24|  null|  Male|Germany|        N|\n",
            "|  25| 32000|Female| France|        Y|\n",
            "|null| 35000|  Male|Germany|        N|\n",
            "|  27| 37000|Female| France|        N|\n",
            "+----+------+------+-------+---------+\n",
            "\n"
          ]
        }
      ]
    },
    {
      "cell_type": "code",
      "source": [
        "prospectsDF.printSchema()"
      ],
      "metadata": {
        "colab": {
          "base_uri": "https://localhost:8080/"
        },
        "id": "uOwav5-NDgCB",
        "outputId": "00abed01-3c4e-4817-830a-4b9e3e58e0b0"
      },
      "execution_count": 12,
      "outputs": [
        {
          "output_type": "stream",
          "name": "stdout",
          "text": [
            "root\n",
            " |-- Age: string (nullable = true)\n",
            " |-- Salary: string (nullable = true)\n",
            " |-- Gender: string (nullable = true)\n",
            " |-- Country: string (nullable = true)\n",
            " |-- Purchased: string (nullable = true)\n",
            "\n"
          ]
        }
      ]
    },
    {
      "cell_type": "code",
      "source": [
        "from pyspark.sql.types import *\n",
        "from pyspark.sql.functions import *"
      ],
      "metadata": {
        "id": "jykUvKKuD27p"
      },
      "execution_count": 21,
      "outputs": []
    },
    {
      "cell_type": "code",
      "source": [
        "bankProspects = prospectsDF.withColumn('age',prospectsDF.Age.cast('int')).withColumn('salary',prospectsDF.Salary.cast('float'))\n",
        "bankProspects.printSchema()"
      ],
      "metadata": {
        "colab": {
          "base_uri": "https://localhost:8080/"
        },
        "id": "7as7b2LSD-8R",
        "outputId": "c7f00b23-04da-4a72-b06c-5d931dd22dc8"
      },
      "execution_count": 16,
      "outputs": [
        {
          "output_type": "stream",
          "name": "stdout",
          "text": [
            "root\n",
            " |-- age: integer (nullable = true)\n",
            " |-- salary: float (nullable = true)\n",
            " |-- Gender: string (nullable = true)\n",
            " |-- Country: string (nullable = true)\n",
            " |-- Purchased: string (nullable = true)\n",
            "\n"
          ]
        }
      ]
    },
    {
      "cell_type": "code",
      "source": [
        "bankProspects.show()"
      ],
      "metadata": {
        "colab": {
          "base_uri": "https://localhost:8080/"
        },
        "id": "bKy0wBlGHlJN",
        "outputId": "0e0ab687-cd6f-45a2-c7a5-1571c0445774"
      },
      "execution_count": 17,
      "outputs": [
        {
          "output_type": "stream",
          "name": "stdout",
          "text": [
            "+----+-------+------+-------+---------+\n",
            "| age| salary|Gender|Country|Purchased|\n",
            "+----+-------+------+-------+---------+\n",
            "|  18|20000.0|  Male|Germany|        N|\n",
            "|  19|22000.0|Female| France|        N|\n",
            "|  20|24000.0|Female|England|        N|\n",
            "|  21|   null|  Male|England|        N|\n",
            "|  22|50000.0|  Male| France|        Y|\n",
            "|  23|35000.0|Female|England|        N|\n",
            "|  24|   null|  Male|Germany|        N|\n",
            "|  25|32000.0|Female| France|        Y|\n",
            "|null|35000.0|  Male|Germany|        N|\n",
            "|  27|37000.0|Female| France|        N|\n",
            "+----+-------+------+-------+---------+\n",
            "\n"
          ]
        }
      ]
    },
    {
      "cell_type": "code",
      "source": [
        "mean_age_val = bankProspects.select(mean(bankProspects.age)).collect()\n",
        "mean_age_sal = bankProspects.select(mean(bankProspects.salary)).collect()"
      ],
      "metadata": {
        "id": "H7L8iL_CH1ku"
      },
      "execution_count": 26,
      "outputs": []
    },
    {
      "cell_type": "code",
      "source": [
        "type(mean_age_val)"
      ],
      "metadata": {
        "colab": {
          "base_uri": "https://localhost:8080/"
        },
        "id": "3uRv6Bg5IIX4",
        "outputId": "d321cf95-26e6-4fbd-e436-d0b90ac65271"
      },
      "execution_count": 23,
      "outputs": [
        {
          "output_type": "execute_result",
          "data": {
            "text/plain": [
              "list"
            ]
          },
          "metadata": {},
          "execution_count": 23
        }
      ]
    },
    {
      "cell_type": "code",
      "source": [
        "mean_age = mean_age_val[0][0]\n",
        "print(mean_age)\n",
        "mean_sal = mean_age_sal[0][0]\n",
        "mean_sal"
      ],
      "metadata": {
        "colab": {
          "base_uri": "https://localhost:8080/"
        },
        "id": "XTCHVDWLIi_7",
        "outputId": "15b48420-845a-4557-e16a-133140f77f7a"
      },
      "execution_count": 28,
      "outputs": [
        {
          "output_type": "stream",
          "name": "stdout",
          "text": [
            "22.11111111111111\n"
          ]
        },
        {
          "output_type": "execute_result",
          "data": {
            "text/plain": [
              "31875.0"
            ]
          },
          "metadata": {},
          "execution_count": 28
        }
      ]
    },
    {
      "cell_type": "code",
      "source": [
        "df1 = bankProspects.na.fill(mean_age,['age'])\n",
        "df1.show()"
      ],
      "metadata": {
        "colab": {
          "base_uri": "https://localhost:8080/"
        },
        "id": "gmJ5Hl59In4i",
        "outputId": "220ddfe7-3bbe-45fe-ae65-d3dec222f807"
      },
      "execution_count": 29,
      "outputs": [
        {
          "output_type": "stream",
          "name": "stdout",
          "text": [
            "+---+-------+------+-------+---------+\n",
            "|age| salary|Gender|Country|Purchased|\n",
            "+---+-------+------+-------+---------+\n",
            "| 18|20000.0|  Male|Germany|        N|\n",
            "| 19|22000.0|Female| France|        N|\n",
            "| 20|24000.0|Female|England|        N|\n",
            "| 21|   null|  Male|England|        N|\n",
            "| 22|50000.0|  Male| France|        Y|\n",
            "| 23|35000.0|Female|England|        N|\n",
            "| 24|   null|  Male|Germany|        N|\n",
            "| 25|32000.0|Female| France|        Y|\n",
            "| 22|35000.0|  Male|Germany|        N|\n",
            "| 27|37000.0|Female| France|        N|\n",
            "+---+-------+------+-------+---------+\n",
            "\n"
          ]
        }
      ]
    },
    {
      "cell_type": "code",
      "source": [
        "df2 = df1.na.fill(mean_sal,['salary'])\n",
        "df2.show()"
      ],
      "metadata": {
        "colab": {
          "base_uri": "https://localhost:8080/"
        },
        "id": "mw0LDBmmJMpQ",
        "outputId": "a84ef3db-0039-4b35-c988-84e339bc5c69"
      },
      "execution_count": 30,
      "outputs": [
        {
          "output_type": "stream",
          "name": "stdout",
          "text": [
            "+---+-------+------+-------+---------+\n",
            "|age| salary|Gender|Country|Purchased|\n",
            "+---+-------+------+-------+---------+\n",
            "| 18|20000.0|  Male|Germany|        N|\n",
            "| 19|22000.0|Female| France|        N|\n",
            "| 20|24000.0|Female|England|        N|\n",
            "| 21|31875.0|  Male|England|        N|\n",
            "| 22|50000.0|  Male| France|        Y|\n",
            "| 23|35000.0|Female|England|        N|\n",
            "| 24|31875.0|  Male|Germany|        N|\n",
            "| 25|32000.0|Female| France|        Y|\n",
            "| 22|35000.0|  Male|Germany|        N|\n",
            "| 27|37000.0|Female| France|        N|\n",
            "+---+-------+------+-------+---------+\n",
            "\n"
          ]
        }
      ]
    },
    {
      "cell_type": "code",
      "source": [
        "df2.write.format('csv').save('bankprospects_transformed')"
      ],
      "metadata": {
        "id": "U2hEurMYJWtK"
      },
      "execution_count": 31,
      "outputs": []
    },
    {
      "cell_type": "code",
      "source": [],
      "metadata": {
        "id": "0CdiXofSJglC"
      },
      "execution_count": null,
      "outputs": []
    }
  ]
}